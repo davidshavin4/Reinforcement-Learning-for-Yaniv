{
 "cells": [
  {
   "cell_type": "code",
   "execution_count": null,
   "metadata": {},
   "outputs": [],
   "source": [
    "from game_manager import GameManager\n",
    "from players import PLAYERS, GreedyRandomPlayer, HarelPlayer, SemiRandomPlayer, RealPlayer\n",
    "import pickle as pkl"
   ]
  },
  {
   "cell_type": "code",
   "execution_count": null,
   "metadata": {},
   "outputs": [
    {
     "name": "stdout",
     "output_type": "stream",
     "text": [
      "Top of pile in  harel  turn:  7_♣\n",
      "harel cards:   9_♥ 3_♦ 1_♥ 7_♥ 12_♦\n",
      "Top of pile in  assaf  turn:  12_♦\n",
      "assaf  cards:   2_♠ 10_♦ 11_♥ 11_♦ 9_♠\n",
      "Enter your move or Q to quit 1=YANIV | 2=PILE | 3=STACK3\n",
      "enter the INDICIES of the cards you want to put down, from 1 to 53 4\n",
      "cards to output:\n",
      "11_♥\n",
      "11_♦\n",
      "Top of pile in  harel  turn:  11_♦\n",
      "harel cards:   1_♥ 3_♦ 7_♥ 9_♥ 2_♦\n",
      "Top of pile in  assaf  turn:  9_♥\n",
      "assaf  cards:   2_♠ 10_♦ 9_♠ 5_♥\n",
      "Enter your move or Q to quit 1=YANIV | 2=PILE | 3=STACKfgj\n",
      "ERROR: enter only digits\n",
      "Enter your move or Q to quit 1=YANIV | 2=PILE | 3=STACKuh\n",
      "ERROR: enter only digits\n",
      "Enter your move or Q to quit 1=YANIV | 2=PILE | 3=STACK787\n",
      "illegal input, try again\n",
      "Enter your move or Q to quit 1=YANIV | 2=PILE | 3=STACK3\n"
     ]
    }
   ],
   "source": [
    "if __name__ == \"__main__\":\n",
    "    \n",
    "    ###LOADING tTHE RL PLAYER:## Takes a few seconds to load\n",
    "    pickel_in =  open(\"harel.pickle\", \"rb\")\n",
    "    harel = pkl.load(pickel_in)\n",
    "    ######################\n",
    "\n",
    "\n",
    "    \n",
    "    grplayer = GreedyRandomPlayer('grplayer_name')\n",
    "    smplayer = SemiRandomPlayer('srplayer_name')\n",
    "\n",
    "    rplayer = RealPlayer(\"assaf\")\n",
    "    #players = [grplayer, smplayer, rplayer, harel]\n",
    "\n",
    "    harel.display=True\n",
    "    players = [harel, rplayer]\n",
    "\n",
    "\n",
    "\n",
    "    gm = GameManager(players, True)\n",
    "    while gm.running==True:\n",
    "        for player in players:\n",
    "            gm.step(player)\n",
    "            if gm.running == False:            \n",
    "                print(\"The game has ended, winner is: \", gm.get_game_leader().name)\n",
    "                break\n",
    "\n",
    "\n",
    "            "
   ]
  },
  {
   "cell_type": "code",
   "execution_count": null,
   "metadata": {},
   "outputs": [],
   "source": []
  }
 ],
 "metadata": {
  "kernelspec": {
   "display_name": "Python 3",
   "language": "python",
   "name": "python3"
  },
  "language_info": {
   "codemirror_mode": {
    "name": "ipython",
    "version": 3
   },
   "file_extension": ".py",
   "mimetype": "text/x-python",
   "name": "python",
   "nbconvert_exporter": "python",
   "pygments_lexer": "ipython3",
   "version": "3.7.6"
  }
 },
 "nbformat": 4,
 "nbformat_minor": 4
}
